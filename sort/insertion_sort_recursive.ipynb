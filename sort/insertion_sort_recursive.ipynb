{
 "cells": [
  {
   "cell_type": "code",
   "execution_count": 10,
   "metadata": {},
   "outputs": [],
   "source": [
    "arr = [5, 4, 7, 6, 4, 2, 4, 7, 72, 234, 43, 2, 123, 13]"
   ]
  },
  {
   "cell_type": "code",
   "execution_count": 11,
   "metadata": {},
   "outputs": [
    {
     "name": "stdout",
     "output_type": "stream",
     "text": [
      "[5, 4, 7, 6, 4, 2, 4, 7, 72, 234, 43, 2, 123, 13]\n",
      "[4, 5, 7, 6, 4, 2, 4, 7, 72, 234, 43, 2, 123, 13]\n",
      "[4, 5, 7, 6, 4, 2, 4, 7, 72, 234, 43, 2, 123, 13]\n",
      "[4, 5, 6, 7, 4, 2, 4, 7, 72, 234, 43, 2, 123, 13]\n",
      "[4, 4, 5, 6, 7, 2, 4, 7, 72, 234, 43, 2, 123, 13]\n",
      "[2, 4, 4, 5, 6, 7, 4, 7, 72, 234, 43, 2, 123, 13]\n",
      "[2, 4, 4, 4, 5, 6, 7, 7, 72, 234, 43, 2, 123, 13]\n",
      "[2, 4, 4, 4, 5, 6, 7, 7, 72, 234, 43, 2, 123, 13]\n",
      "[2, 4, 4, 4, 5, 6, 7, 7, 72, 234, 43, 2, 123, 13]\n",
      "[2, 4, 4, 4, 5, 6, 7, 7, 72, 234, 43, 2, 123, 13]\n",
      "[2, 4, 4, 4, 5, 6, 7, 7, 43, 72, 234, 2, 123, 13]\n",
      "[2, 2, 4, 4, 4, 5, 6, 7, 7, 43, 72, 234, 123, 13]\n",
      "[2, 2, 4, 4, 4, 5, 6, 7, 7, 43, 72, 123, 234, 13]\n",
      "[2, 2, 4, 4, 4, 5, 6, 7, 7, 13, 43, 72, 123, 234]\n",
      "\n",
      "Done!\n",
      "Array =  [2, 2, 4, 4, 4, 5, 6, 7, 7, 13, 43, 72, 123, 234]\n"
     ]
    }
   ],
   "source": [
    "# n = up to this element the array is sorted (inclusive)\n",
    "def insertion_sort_recursive(array, n):\n",
    "\n",
    "    # divide\n",
    "    if n > 0:\n",
    "        insertion_sort_recursive(array, n-1)\n",
    "\n",
    "    # insert next element into already sorted part\n",
    "    i = n\n",
    "    while i > 0 and array[i] < array[i-1]:\n",
    "            TEMP = array[i]\n",
    "            array[i] = array[i-1]\n",
    "            array[i-1] = TEMP\n",
    "            i = i-1\n",
    "    \n",
    "    print(array)\n",
    "\n",
    "insertion_sort_recursive(arr, len(arr)-1)\n",
    "print(\"\\nDone!\\nArray = \", arr)"
   ]
  }
 ],
 "metadata": {
  "interpreter": {
   "hash": "4d50c1bcd62610960efd5734dc405fe8cf193e4f5c9f280f080c08037d0de9be"
  },
  "kernelspec": {
   "display_name": "Python 3.9.12 64-bit (windows store)",
   "language": "python",
   "name": "python3"
  },
  "language_info": {
   "codemirror_mode": {
    "name": "ipython",
    "version": 3
   },
   "file_extension": ".py",
   "mimetype": "text/x-python",
   "name": "python",
   "nbconvert_exporter": "python",
   "pygments_lexer": "ipython3",
   "version": "3.9.13"
  },
  "orig_nbformat": 4
 },
 "nbformat": 4,
 "nbformat_minor": 2
}
