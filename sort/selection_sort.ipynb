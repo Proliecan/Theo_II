{
 "cells": [
  {
   "cell_type": "code",
   "execution_count": 19,
   "metadata": {},
   "outputs": [],
   "source": [
    "arr =[5, 4, 7, 6, 4, 2, 4, 7, 72, 234, 43, 2, 123, 13]"
   ]
  },
  {
   "cell_type": "code",
   "execution_count": 20,
   "metadata": {},
   "outputs": [],
   "source": [
    "def selection_sort(array):\n",
    "    i = 0\n",
    "    ## runs n-1 times\n",
    "    while i < len(array):\n",
    "\n",
    "        # find index with smallest value\n",
    "        j = i\n",
    "        e = j\n",
    "        while j < len(array):\n",
    "            if array[j] < array[e]:\n",
    "                e = j\n",
    "            j = j + 1\n",
    "\n",
    "        # switch elements\n",
    "        temp = array[i]\n",
    "        array[i] = array[e]\n",
    "        array[e] = temp\n",
    "        print(array)\n",
    "\n",
    "        i = i+1\n",
    "    print(\"sorted!\\nFinal Array: %a\" % array)\n"
   ]
  },
  {
   "cell_type": "code",
   "execution_count": 21,
   "metadata": {},
   "outputs": [
    {
     "name": "stdout",
     "output_type": "stream",
     "text": [
      "[2, 4, 7, 6, 4, 5, 4, 7, 72, 234, 43, 2, 123, 13]\n",
      "[2, 2, 7, 6, 4, 5, 4, 7, 72, 234, 43, 4, 123, 13]\n",
      "[2, 2, 4, 6, 7, 5, 4, 7, 72, 234, 43, 4, 123, 13]\n",
      "[2, 2, 4, 4, 7, 5, 6, 7, 72, 234, 43, 4, 123, 13]\n",
      "[2, 2, 4, 4, 4, 5, 6, 7, 72, 234, 43, 7, 123, 13]\n",
      "[2, 2, 4, 4, 4, 5, 6, 7, 72, 234, 43, 7, 123, 13]\n",
      "[2, 2, 4, 4, 4, 5, 6, 7, 72, 234, 43, 7, 123, 13]\n",
      "[2, 2, 4, 4, 4, 5, 6, 7, 72, 234, 43, 7, 123, 13]\n",
      "[2, 2, 4, 4, 4, 5, 6, 7, 7, 234, 43, 72, 123, 13]\n",
      "[2, 2, 4, 4, 4, 5, 6, 7, 7, 13, 43, 72, 123, 234]\n",
      "[2, 2, 4, 4, 4, 5, 6, 7, 7, 13, 43, 72, 123, 234]\n",
      "[2, 2, 4, 4, 4, 5, 6, 7, 7, 13, 43, 72, 123, 234]\n",
      "[2, 2, 4, 4, 4, 5, 6, 7, 7, 13, 43, 72, 123, 234]\n",
      "[2, 2, 4, 4, 4, 5, 6, 7, 7, 13, 43, 72, 123, 234]\n",
      "sorted!\n",
      "Final Array: [2, 2, 4, 4, 4, 5, 6, 7, 7, 13, 43, 72, 123, 234]\n"
     ]
    }
   ],
   "source": [
    "selection_sort(arr)"
   ]
  }
 ],
 "metadata": {
  "interpreter": {
   "hash": "4d50c1bcd62610960efd5734dc405fe8cf193e4f5c9f280f080c08037d0de9be"
  },
  "kernelspec": {
   "display_name": "Python 3.9.12 64-bit (windows store)",
   "language": "python",
   "name": "python3"
  },
  "language_info": {
   "codemirror_mode": {
    "name": "ipython",
    "version": 3
   },
   "file_extension": ".py",
   "mimetype": "text/x-python",
   "name": "python",
   "nbconvert_exporter": "python",
   "pygments_lexer": "ipython3",
   "version": "3.9.12"
  },
  "orig_nbformat": 4
 },
 "nbformat": 4,
 "nbformat_minor": 2
}
