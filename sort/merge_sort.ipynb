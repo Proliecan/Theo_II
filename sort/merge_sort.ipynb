{
 "cells": [
  {
   "cell_type": "code",
   "execution_count": 1,
   "metadata": {},
   "outputs": [],
   "source": [
    "import math\n",
    "import numpy"
   ]
  },
  {
   "cell_type": "code",
   "execution_count": 2,
   "metadata": {},
   "outputs": [
    {
     "name": "stdout",
     "output_type": "stream",
     "text": [
      "[  2   2   4   4   4   5   6   7   7  13  43  72 123 234]\n"
     ]
    }
   ],
   "source": [
    "arr = numpy.asarray(a=[5, 4, 7, 6, 4, 2, 4, 7, 72, 234, 43, 2, 123, 13])\n",
    "\n",
    "def merge_sort(array, p, r):\n",
    "    if p < r:\n",
    "        q = math.floor((p+r)/2)         # find middle (divide)\n",
    "\n",
    "        merge_sort(array, p=p, r=q)     # conquer\n",
    "        merge_sort(array, p=q+1, r=r)\n",
    "        merge(array, p, q, r)           # combine\n",
    "\n",
    "\n",
    "def merge(array, p, q, r):\n",
    "    buffer1 = []\n",
    "    buffer2 = []\n",
    "    for i in range(p, q+1):\n",
    "        buffer1.append(array[i])\n",
    "    for i in range(q+1, r+1):\n",
    "        buffer2.append(array[i])\n",
    "    buffer1 = numpy.asarray(buffer1)\n",
    "    buffer2 = numpy.asarray(buffer2)\n",
    "\n",
    "    i = 0\n",
    "    j = 0\n",
    "    for o in range(p, r+1):\n",
    "        if not(i < buffer1.shape[0]):\n",
    "            array[o:r+1] = buffer2[j:buffer2.shape[0]]\n",
    "            break\n",
    "        if not(j < buffer2.shape[0]):\n",
    "            array[o:r+1] = buffer1[i:buffer1.shape[0]]\n",
    "            break\n",
    "\n",
    "        if buffer1[i] < buffer2[j]:\n",
    "            array[o] = buffer1[i]\n",
    "            i = i+1\n",
    "        else:\n",
    "            array[o] = buffer2[j]\n",
    "            j = j+1\n",
    "\n",
    "\n",
    "merge_sort(arr, 0, 13)\n",
    "\n",
    "print(arr)\n",
    "\n",
    "# expected output:\n",
    "# [  2   2   4   4   4   5   6   7   7  13  43  72 123 234]\n"
   ]
  }
 ],
 "metadata": {
  "interpreter": {
   "hash": "4d50c1bcd62610960efd5734dc405fe8cf193e4f5c9f280f080c08037d0de9be"
  },
  "kernelspec": {
   "display_name": "Python 3.9.12 64-bit (windows store)",
   "language": "python",
   "name": "python3"
  },
  "language_info": {
   "codemirror_mode": {
    "name": "ipython",
    "version": 3
   },
   "file_extension": ".py",
   "mimetype": "text/x-python",
   "name": "python",
   "nbconvert_exporter": "python",
   "pygments_lexer": "ipython3",
   "version": "3.9.12"
  },
  "orig_nbformat": 4
 },
 "nbformat": 4,
 "nbformat_minor": 2
}
