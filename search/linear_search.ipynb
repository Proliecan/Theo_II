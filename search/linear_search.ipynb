{
 "cells": [
  {
   "cell_type": "code",
   "execution_count": 2,
   "metadata": {},
   "outputs": [
    {
     "name": "stdout",
     "output_type": "stream",
     "text": [
      "10\n"
     ]
    }
   ],
   "source": [
    "arr = [5, 4, 7, 6, 4, 2, 4, 7, 72, 234, 43, 2, 123, 13]\n",
    "search = 43\n",
    "\n",
    "for a in arr:\n",
    "    if a == search:\n",
    "        print(arr.index(43))\n",
    "\n",
    "# expected output: 10"
   ]
  },
  {
   "cell_type": "markdown",
   "metadata": {},
   "source": [
    "  Proof of correctness\n",
    "  ===================\n",
    "  j := iteration (0...n)\n",
    "  Loop invariant: The element is not in index 0...j-1.\n",
    "  \n",
    "  1. Initialization\n",
    "  In loop 0, it is obviously not in the subarray before j ([<empty>])\n",
    "   \n",
    "  2. Maintenance\n",
    "  The loop ends when it finds the element.\n",
    "  So, if the loop does repeat, that implies it didn't find the element before.\n",
    "  \n",
    "  3. Termination\n",
    "  The loop runs exactly len(arr) times. \n",
    "  Since len(arr) does not change, the algorithm terminates after n iterations. "
   ]
  }
 ],
 "metadata": {
  "interpreter": {
   "hash": "4d50c1bcd62610960efd5734dc405fe8cf193e4f5c9f280f080c08037d0de9be"
  },
  "kernelspec": {
   "display_name": "Python 3.9.12 64-bit (windows store)",
   "language": "python",
   "name": "python3"
  },
  "language_info": {
   "codemirror_mode": {
    "name": "ipython",
    "version": 3
   },
   "file_extension": ".py",
   "mimetype": "text/x-python",
   "name": "python",
   "nbconvert_exporter": "python",
   "pygments_lexer": "ipython3",
   "version": "3.9.12"
  },
  "orig_nbformat": 4
 },
 "nbformat": 4,
 "nbformat_minor": 2
}
