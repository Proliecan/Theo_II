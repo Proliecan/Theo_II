{
 "cells": [
  {
   "cell_type": "code",
   "execution_count": 1,
   "metadata": {},
   "outputs": [],
   "source": [
    "import math"
   ]
  },
  {
   "cell_type": "code",
   "execution_count": 2,
   "metadata": {},
   "outputs": [],
   "source": [
    "arr = [5, 4, 7, 6, 4, 2, 4, 7, 72, 234, 43, 2, 123, 13]\n",
    "search = 43\n",
    "\n",
    "def found(query, index):\n",
    "    print(\"Found search query %i at index %i\" %(query, index))"
   ]
  },
  {
   "cell_type": "code",
   "execution_count": 3,
   "metadata": {},
   "outputs": [],
   "source": [
    "def binary_search(array, begin, end, query):\n",
    "    middle = math.floor((begin+end)/2)\n",
    "\n",
    "    if query < array[middle]:\n",
    "        binary_search(array, begin=begin, end=middle, query=query)\n",
    "        return\n",
    "    if query > array[middle]:\n",
    "        binary_search(array, begin=middle, end=end, query=query)\n",
    "        return\n",
    "    if array[middle] == query:\n",
    "        found(query, index=middle)\n",
    "    return\n"
   ]
  },
  {
   "cell_type": "code",
   "execution_count": 4,
   "metadata": {},
   "outputs": [
    {
     "name": "stdout",
     "output_type": "stream",
     "text": [
      "Found search query 43 at index 10\n"
     ]
    }
   ],
   "source": [
    "binary_search(arr, 0, len(arr), search)\n",
    "\n",
    "# expected output: Found search query 43 at index 10"
   ]
  }
 ],
 "metadata": {
  "interpreter": {
   "hash": "4d50c1bcd62610960efd5734dc405fe8cf193e4f5c9f280f080c08037d0de9be"
  },
  "kernelspec": {
   "display_name": "Python 3.9.12 64-bit (windows store)",
   "language": "python",
   "name": "python3"
  },
  "language_info": {
   "codemirror_mode": {
    "name": "ipython",
    "version": 3
   },
   "file_extension": ".py",
   "mimetype": "text/x-python",
   "name": "python",
   "nbconvert_exporter": "python",
   "pygments_lexer": "ipython3",
   "version": "3.9.12"
  },
  "orig_nbformat": 4
 },
 "nbformat": 4,
 "nbformat_minor": 2
}
